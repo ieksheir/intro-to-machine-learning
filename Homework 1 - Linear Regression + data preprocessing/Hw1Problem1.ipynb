{
 "cells": [
  {
   "cell_type": "code",
   "execution_count": 1,
   "id": "7fe4d7c9",
   "metadata": {},
   "outputs": [],
   "source": [
    "#import libraries\n",
    "import numpy as np \n",
    "import pandas as pd \n",
    "import matplotlib.pyplot as plt"
   ]
  },
  {
   "cell_type": "code",
   "execution_count": 2,
   "id": "32348811",
   "metadata": {},
   "outputs": [],
   "source": [
    "#import data\n",
    "df = pd.DataFrame(pd.read_csv(r'C:\\Users\\ibrah\\OneDrive\\Desktop\\Intro to ML\\HW1\\Housing.csv'))\n",
    "df.head(); # To get first n rows from the dataset default value of n is 5\n",
    "m = len(df)"
   ]
  },
  {
   "cell_type": "code",
   "execution_count": 3,
   "id": "bd6fa1d4",
   "metadata": {},
   "outputs": [],
   "source": [
    "#pre-process data - yes & no to binary\n",
    "varlist = ['mainroad', 'guestroom', 'basement', 'hotwaterheating', 'airconditioning', 'prefarea']\n",
    "\n",
    "#define map function\n",
    "def binary_map(x):\n",
    "    return x.map({'yes': 1, \"no\": 0})\n",
    "\n",
    "#Apply fucntion\n",
    "df[varlist] = df[varlist].apply(binary_map)"
   ]
  },
  {
   "cell_type": "code",
   "execution_count": 4,
   "id": "070987d7",
   "metadata": {},
   "outputs": [],
   "source": [
    "#Split Data set into Training Data and Test Data.\n",
    "from sklearn.model_selection import train_test_split\n",
    "np.random.seed(0)\n",
    "df_train,df_test = train_test_split(df, train_size=0.8, test_size=0.2)\n",
    "mT = len(df_train)\n",
    "mV = len(df_test)"
   ]
  },
  {
   "cell_type": "markdown",
   "id": "622b8e4c",
   "metadata": {},
   "source": [
    "# Problem 1a"
   ]
  },
  {
   "cell_type": "code",
   "execution_count": 5,
   "id": "756eccfb",
   "metadata": {},
   "outputs": [],
   "source": [
    "# set input variables into X for 1a - train set\n",
    "#X1:area, X2:bedrooms, X3:bathrooms, X4:stories, X10:parking\n",
    "X1Ta = df_train.values[:, 1]\n",
    "X2Ta = df_train.values[:, 2]\n",
    "X3Ta = df_train.values[:, 3]\n",
    "X4Ta = df_train.values[:, 4]\n",
    "X10Ta = df_train.values[:, 10]\n",
    "# set first column (price) to output Y\n",
    "yTa = df_train.values[:, 0]\n",
    "\n",
    "# set input variables into X for 1a - validation set\n",
    "#X1:area, X2:bedrooms, X3:bathrooms, X4:stories, X10:parking\n",
    "X1Va = df_test.values[:, 1]\n",
    "X2Va = df_test.values[:, 2]\n",
    "X3Va = df_test.values[:, 3]\n",
    "X4Va = df_test.values[:, 4]\n",
    "X10Va = df_test.values[:, 10]\n",
    "# set first column (price) to output Y\n",
    "yVa = df_test.values[:, 0]"
   ]
  },
  {
   "cell_type": "code",
   "execution_count": 6,
   "id": "119127c7",
   "metadata": {},
   "outputs": [],
   "source": [
    "#Create xT array for 1a - training\n",
    "X_0Ta = np.ones((mT, 1))\n",
    "X_1Ta = X1Ta.reshape(mT, 1)\n",
    "X_2Ta = X2Ta.reshape(mT, 1)\n",
    "X_3Ta = X3Ta.reshape(mT, 1)\n",
    "X_4Ta = X4Ta.reshape(mT, 1)\n",
    "X_10Ta = X10Ta.reshape(mT, 1)\n",
    "xTa = np.hstack((X_0Ta, X_1Ta, X_2Ta, X_3Ta, X_4Ta, X_10Ta))\n",
    "\n",
    "#Create xV array for 1a - validate\n",
    "X_0Va = np.ones((mV, 1))\n",
    "X_1Va = X1Va.reshape(mV, 1)\n",
    "X_2Va = X2Va.reshape(mV, 1)\n",
    "X_3Va = X3Va.reshape(mV, 1)\n",
    "X_4Va = X4Va.reshape(mV, 1)\n",
    "X_10Va = X10Va.reshape(mV, 1)\n",
    "xVa = np.hstack((X_0Va, X_1Va, X_2Va, X_3Va, X_4Va, X_10Va))"
   ]
  },
  {
   "cell_type": "code",
   "execution_count": 7,
   "id": "f7d437b5",
   "metadata": {},
   "outputs": [],
   "source": [
    "\"\"\" \n",
    "      Function to compute loss\n",
    "\n",
    "      Input Parameters: \n",
    "      ---------------- \n",
    "      X : mxn array (m = number of training examples; n= number of features).\n",
    "      y : 1xm array with answer value to the training examples.\n",
    "      theta : 1xn array of fitting weights.\n",
    "\n",
    "      Output Parameters \n",
    "      ----------------- \n",
    "      J : the loss - scalar value. \n",
    "\"\"\" \n",
    "def compute_loss(X, y, theta): \n",
    "\n",
    "    predictions = X.dot(theta) \n",
    "    errors = np.subtract(predictions, y) \n",
    "    sqrErrors = np.square(errors) \n",
    "    J = 1 / (2 * m) * np.sum(sqrErrors) \n",
    "    return J "
   ]
  },
  {
   "cell_type": "code",
   "execution_count": 8,
   "id": "148bfd3a",
   "metadata": {},
   "outputs": [],
   "source": [
    "\"\"\" \n",
    "  Function to  loss for linear regression. \n",
    " \n",
    "  Input Parameters \n",
    "  ---------------- \n",
    "  X : mxn array (m = number of training examples; n= number of features).\n",
    "  y : 1xm array with answer value to the training examples.\n",
    "  theta : 1xn array of fitting weights.\n",
    "  alpha : Learning rate - Scalar value. \n",
    "  iterations: No of iterations - Scalar value.  \n",
    " \n",
    "  Output Parameters \n",
    "  ----------------- \n",
    "  theta : 1xn array of final fitting weights\n",
    "  loss_history: m x 1 array of loss values of each iteration\n",
    "  \"\"\" \n",
    "def gradient_descent(xT, yT, xV, yV, theta, alpha, iterations): \n",
    "    loss_history_train = np.zeros(iterations)\n",
    "    loss_history_validate = np.zeros(iterations) \n",
    " \n",
    "    for i in range(iterations): \n",
    "        predictions = xT.dot(theta) \n",
    "        errors = np.subtract(predictions, yT) \n",
    "        sum_delta = (alpha / mT) * xT.transpose().dot(errors); \n",
    "        theta = theta - sum_delta; \n",
    "        loss_history_train[i] = compute_loss(xT, yT, theta)\n",
    "        loss_history_validate[i] = compute_loss(xV, yV, theta) \n",
    "        \n",
    "    return theta, loss_history_train, loss_history_validate "
   ]
  },
  {
   "cell_type": "code",
   "execution_count": 9,
   "id": "cbe9af72",
   "metadata": {},
   "outputs": [],
   "source": [
    "#declare parameters with initial values\n",
    "theta_1a = [0., 0., 0., 0., 0., 0.] \n",
    "iterations = 25000; \n",
    "alpha = 0.00000000001"
   ]
  },
  {
   "cell_type": "code",
   "execution_count": 10,
   "id": "4206614e",
   "metadata": {},
   "outputs": [
    {
     "data": {
      "text/plain": [
       "array([0.22802337133594539, 860.6761833846913, 0.7630076945305009,\n",
       "       0.3751989139503677, 0.5532732633018009, 0.20240506180012383],\n",
       "      dtype=object)"
      ]
     },
     "execution_count": 10,
     "metadata": {},
     "output_type": "execute_result"
    }
   ],
   "source": [
    "theta, loss_history_train_a, loss_history_validate_a = gradient_descent(xTa, yTa, xVa, yVa, theta_1a, alpha, iterations) \n",
    "theta"
   ]
  },
  {
   "cell_type": "code",
   "execution_count": 11,
   "id": "8eff7719",
   "metadata": {},
   "outputs": [
    {
     "data": {
      "text/plain": [
       "<matplotlib.legend.Legend at 0x28f49cf15b0>"
      ]
     },
     "execution_count": 11,
     "metadata": {},
     "output_type": "execute_result"
    },
    {
     "data": {
      "image/png": "[encoded data removed]",
      "text/plain": [
       "<Figure size 432x288 with 1 Axes>"
      ]
     },
     "metadata": {
      "needs_background": "light"
     },
     "output_type": "display_data"
    }
   ],
   "source": [
    "#plot for 1a\n",
    "plt.plot(range(1, iterations + 1),loss_history_train_a, color='red', label='Validation loss')\n",
    "plt.plot(range(1, iterations + 1),loss_history_validate_a, color='blue', label='Training loss') \n",
    "plt.rcParams[\"figure.figsize\"] = (10,6) \n",
    "plt.grid() \n",
    "plt.xlabel('Number of iterations') \n",
    "plt.ylabel('Loss (J)') \n",
    "plt.title('Convergence of Gradient Descent') \n",
    "plt.legend()"
   ]
  },
  {
   "cell_type": "markdown",
   "id": "efc72a0a",
   "metadata": {},
   "source": [
    "# Problem 1b"
   ]
  },
  {
   "cell_type": "code",
   "execution_count": 12,
   "id": "81a3b712",
   "metadata": {},
   "outputs": [],
   "source": [
    "# set input variables into X for 1b - train set\n",
    "#X1:area, X2:bedrooms, X3:bathrooms, X4:stories, X5:mainroad, X6:guestroom,\n",
    "#X7:basement, X8:hotwaterheating, X9:airconditioning, X10:parking, X11:prefarea\n",
    "X1Tb = df_train.values[:, 1]\n",
    "X2Tb = df_train.values[:, 2]\n",
    "X3Tb = df_train.values[:, 3]\n",
    "X4Tb = df_train.values[:, 4]\n",
    "X5Tb = df_train.values[:, 5]\n",
    "X6Tb = df_train.values[:, 6]\n",
    "X7Tb = df_train.values[:, 7]\n",
    "X8Tb = df_train.values[:, 8]\n",
    "X9Tb = df_train.values[:, 9]\n",
    "X10Tb = df_train.values[:, 10]\n",
    "X11Tb = df_train.values[:, 11]\n",
    "# set first column (price) to output Y\n",
    "yTb = df_train.values[:, 0]\n",
    "\n",
    "# set input variables into X for 1a - validation set\n",
    "#X1:area, X2:bedrooms, X3:bathrooms, X4:stories, X10:parking\n",
    "X1Vb = df_test.values[:, 1]\n",
    "X2Vb = df_test.values[:, 2]\n",
    "X3Vb = df_test.values[:, 3]\n",
    "X4Vb = df_test.values[:, 4]\n",
    "X5Vb = df_test.values[:, 5]\n",
    "X6Vb = df_test.values[:, 6]\n",
    "X7Vb = df_test.values[:, 7]\n",
    "X8Vb = df_test.values[:, 8]\n",
    "X9Vb = df_test.values[:, 9]\n",
    "X10Vb = df_test.values[:, 10]\n",
    "X11Vb = df_test.values[:, 11]\n",
    "# set first column (price) to output Y\n",
    "yVb = df_test.values[:, 0]"
   ]
  },
  {
   "cell_type": "code",
   "execution_count": 13,
   "id": "25b22d5c",
   "metadata": {},
   "outputs": [],
   "source": [
    "#Create xT array for 1b - training\n",
    "X_0Tb = np.ones((mT, 1))\n",
    "X_1Tb = X1Tb.reshape(mT, 1)\n",
    "X_2Tb = X2Tb.reshape(mT, 1)\n",
    "X_3Tb = X3Tb.reshape(mT, 1)\n",
    "X_4Tb = X4Tb.reshape(mT, 1)\n",
    "X_5Tb = X5Tb.reshape(mT, 1)\n",
    "X_6Tb = X6Tb.reshape(mT, 1)\n",
    "X_7Tb = X7Tb.reshape(mT, 1)\n",
    "X_8Tb = X8Tb.reshape(mT, 1)\n",
    "X_9Tb = X9Tb.reshape(mT, 1)\n",
    "X_10Tb = X10Tb.reshape(mT, 1)\n",
    "X_11Tb = X11Tb.reshape(mT, 1)\n",
    "xTb = np.hstack((X_0Tb, X_1Tb, X_2Tb, X_3Tb, X_4Tb, X_5Tb, X_6Tb, X_7Tb, X_8Tb, X_9Tb, X_10Tb, X_11Tb))\n",
    "\n",
    "#Create xV array for 1b - validate\n",
    "X_0Vb = np.ones((mV, 1))\n",
    "X_1Vb = X1Vb.reshape(mV, 1)\n",
    "X_2Vb = X2Vb.reshape(mV, 1)\n",
    "X_3Vb = X3Vb.reshape(mV, 1)\n",
    "X_4Vb = X4Vb.reshape(mV, 1)\n",
    "X_5Vb = X5Vb.reshape(mV, 1)\n",
    "X_6Vb = X6Vb.reshape(mV, 1)\n",
    "X_7Vb = X7Vb.reshape(mV, 1)\n",
    "X_8Vb = X8Vb.reshape(mV, 1)\n",
    "X_9Vb = X9Vb.reshape(mV, 1)\n",
    "X_10Vb = X10Vb.reshape(mV, 1)\n",
    "X_11Vb = X11Vb.reshape(mV, 1)\n",
    "xVb = np.hstack((X_0Vb, X_1Vb, X_2Vb, X_3Vb, X_4Vb, X_5Vb, X_6Vb, X_7Vb, X_8Vb, X_9Vb, X_10Vb, X_11Vb))\n"
   ]
  },
  {
   "cell_type": "code",
   "execution_count": 14,
   "id": "61c02db6",
   "metadata": {},
   "outputs": [],
   "source": [
    "\"\"\" \n",
    "      Function to compute loss\n",
    "\n",
    "      Input Parameters: \n",
    "      ---------------- \n",
    "      X : mxn array (m = number of training examples; n= number of features).\n",
    "      y : 1xm array with answer value to the training examples.\n",
    "      theta : 1xn array of fitting weights.\n",
    "\n",
    "      Output Parameters \n",
    "      ----------------- \n",
    "      J : the loss - scalar value. \n",
    "\"\"\" \n",
    "def compute_loss(X, y, theta): \n",
    "\n",
    "    predictions = X.dot(theta) \n",
    "    errors = np.subtract(predictions, y) \n",
    "    sqrErrors = np.square(errors) \n",
    "    J = 1 / (2 * m) * np.sum(sqrErrors) \n",
    "    return J "
   ]
  },
  {
   "cell_type": "code",
   "execution_count": 15,
   "id": "6ea70192",
   "metadata": {},
   "outputs": [],
   "source": [
    "\"\"\" \n",
    "  Function to  loss for linear regression. \n",
    " \n",
    "  Input Parameters \n",
    "  ---------------- \n",
    "  X : mxn array (m = number of training examples; n= number of features).\n",
    "  y : 1xm array with answer value to the training examples.\n",
    "  theta : 1xn array of fitting weights.\n",
    "  alpha : Learning rate - Scalar value. \n",
    "  iterations: No of iterations - Scalar value.  \n",
    " \n",
    "  Output Parameters \n",
    "  ----------------- \n",
    "  theta : 1xn array of final fitting weights\n",
    "  loss_history: m x 1 array of loss values of each iteration\n",
    "  \"\"\" \n",
    "def gradient_descent(xT, yT, xV, yV, theta, alpha, iterations): \n",
    "    loss_history_train = np.zeros(iterations)\n",
    "    loss_history_validate = np.zeros(iterations) \n",
    " \n",
    "    for i in range(iterations): \n",
    "        predictions = xT.dot(theta) \n",
    "        errors = np.subtract(predictions, yT) \n",
    "        sum_delta = (alpha / mT) * xT.transpose().dot(errors); \n",
    "        theta = theta - sum_delta; \n",
    "        loss_history_train[i] = compute_loss(xT, yT, theta)\n",
    "        loss_history_validate[i] = compute_loss(xV, yV, theta) \n",
    "        \n",
    "    return theta, loss_history_train, loss_history_validate "
   ]
  },
  {
   "cell_type": "code",
   "execution_count": 16,
   "id": "09b38ebc",
   "metadata": {},
   "outputs": [],
   "source": [
    "#declare parameters with initial values\n",
    "theta_1b = [0., 0., 0., 0., 0., 0., 0., 0., 0., 0., 0., 0.] \n",
    "iterations = 25000; \n",
    "alpha = 0.00000000001"
   ]
  },
  {
   "cell_type": "code",
   "execution_count": 17,
   "id": "e3a26bdc",
   "metadata": {},
   "outputs": [
    {
     "data": {
      "text/plain": [
       "array([0.22802335886412728, 860.6761348453687, 0.7630076564874716,\n",
       "       0.37519889709614573, 0.5532732386268855, 0.20628964755323373,\n",
       "       0.06862437503509397, 0.11392247214264746, 0.02273829654415259,\n",
       "       0.12918498219992916, 0.2024050521744467, 0.08281070887217866],\n",
       "      dtype=object)"
      ]
     },
     "execution_count": 17,
     "metadata": {},
     "output_type": "execute_result"
    }
   ],
   "source": [
    "theta, loss_history_train_b, loss_history_validate_b = gradient_descent(xTb, yTb, xVb, yVb, theta_1b, alpha, iterations)\n",
    "theta"
   ]
  },
  {
   "cell_type": "code",
   "execution_count": 18,
   "id": "ff84faf0",
   "metadata": {},
   "outputs": [
    {
     "data": {
      "text/plain": [
       "<matplotlib.legend.Legend at 0x28f4a53d730>"
      ]
     },
     "execution_count": 18,
     "metadata": {},
     "output_type": "execute_result"
    },
    {
     "data": {
      "image/png": "[encoded data removed]",
      "text/plain": [
       "<Figure size 720x432 with 1 Axes>"
      ]
     },
     "metadata": {
      "needs_background": "light"
     },
     "output_type": "display_data"
    }
   ],
   "source": [
    "#plot for 1b\n",
    "plt.plot(range(1, iterations + 1),loss_history_train_b , color='red', label='Validation loss')\n",
    "plt.plot(range(1, iterations + 1),loss_history_validate_b, color='blue', label='Training loss') \n",
    "plt.rcParams[\"figure.figsize\"] = (10,6) \n",
    "plt.grid() \n",
    "plt.xlabel('Number of iterations') \n",
    "plt.ylabel('Loss (J)') \n",
    "plt.title('Convergence of Gradient Descent') \n",
    "plt.legend()"
   ]
  }
 ],
 "metadata": {
  "kernelspec": {
   "display_name": "Python 3 (ipykernel)",
   "language": "python",
   "name": "python3"
  },
  "language_info": {
   "codemirror_mode": {
    "name": "ipython",
    "version": 3
   },
   "file_extension": ".py",
   "mimetype": "text/x-python",
   "name": "python",
   "nbconvert_exporter": "python",
   "pygments_lexer": "ipython3",
   "version": "3.9.12"
  }
 },
 "nbformat": 4,
 "nbformat_minor": 5
}
