{
 "cells": [
  {
   "cell_type": "code",
   "execution_count": 1,
   "id": "96760642",
   "metadata": {},
   "outputs": [],
   "source": [
    "#import libraries\n",
    "import numpy as np \n",
    "import pandas as pd \n",
    "import matplotlib.pyplot as plt\n",
    "import warnings\n",
    "warnings.filterwarnings('ignore')\n",
    "from sklearn.preprocessing import MinMaxScaler, StandardScaler"
   ]
  },
  {
   "cell_type": "code",
   "execution_count": 2,
   "id": "62b6aa47",
   "metadata": {},
   "outputs": [],
   "source": [
    "#import data\n",
    "df = pd.DataFrame(pd.read_csv(r'C:\\Users\\ibrah\\OneDrive\\Desktop\\Intro to ML\\HW1\\Housing.csv'))\n",
    "df.head(); # To get first n rows from the dataset default value of n is 5\n",
    "m = len(df)"
   ]
  },
  {
   "cell_type": "code",
   "execution_count": 3,
   "id": "ed68d36f",
   "metadata": {},
   "outputs": [],
   "source": [
    "#pre-process data - yes & no to binary\n",
    "varlist = ['mainroad', 'guestroom', 'basement', 'hotwaterheating', 'airconditioning', 'prefarea']\n",
    "\n",
    "#define map function\n",
    "def binary_map(x):\n",
    "    return x.map({'yes': 1, \"no\": 0})\n",
    "\n",
    "#Apply fucntion\n",
    "df[varlist] = df[varlist].apply(binary_map)"
   ]
  },
  {
   "cell_type": "code",
   "execution_count": 4,
   "id": "260ad8bb",
   "metadata": {},
   "outputs": [],
   "source": [
    "#Split Data set into Training Data and Test Data.\n",
    "from sklearn.model_selection import train_test_split\n",
    "np.random.seed(0)\n",
    "df_train,df_test = train_test_split(df, train_size=0.8, test_size=0.2)\n",
    "mT = len(df_train)\n",
    "mV = len(df_test)"
   ]
  },
  {
   "cell_type": "code",
   "execution_count": 5,
   "id": "d600188b",
   "metadata": {},
   "outputs": [],
   "source": [
    "num_vars = ['area', 'bedrooms', 'bathrooms', 'stories', 'parking', 'price', 'mainroad', 'guestroom', 'basement'\n",
    "            , 'hotwaterheating', 'airconditioning', 'prefarea']\n",
    "#create new sets\n",
    "df_Newtrain = df_train[num_vars]\n",
    "df_Newtest = df_test[num_vars]"
   ]
  },
  {
   "cell_type": "code",
   "execution_count": 6,
   "id": "2b10b7dc",
   "metadata": {},
   "outputs": [],
   "source": [
    "#set and apply sacler\n",
    "Scaler = MinMaxScaler()\n",
    "#Scaler = StandardScaler()\n",
    "df_Newtrain[num_vars] = Scaler.fit_transform(df_Newtrain[num_vars])\n",
    "df_Newtest[num_vars] = Scaler.fit_transform(df_Newtest[num_vars])"
   ]
  },
  {
   "cell_type": "code",
   "execution_count": 7,
   "id": "c317ac12",
   "metadata": {},
   "outputs": [],
   "source": [
    "#isolate y and x\n",
    "y_Normtrain = df_Newtrain.pop('price')\n",
    "X_Normtrain = df_Newtrain.copy()\n",
    "\n",
    "y_Normtest = df_Newtest.pop('price')\n",
    "X_Normtest = df_Newtest.copy()"
   ]
  },
  {
   "cell_type": "markdown",
   "id": "efb9920b",
   "metadata": {},
   "source": [
    "# Problem 3a"
   ]
  },
  {
   "cell_type": "code",
   "execution_count": 8,
   "id": "81e9af87",
   "metadata": {},
   "outputs": [],
   "source": [
    "# set input variables into X for 3a - train set\n",
    "#X1:area, X2:bedrooms, X3:bathrooms, X4:stories, X5:parking\n",
    "X1Ta = df_Newtrain.values[:,0]\n",
    "X2Ta = df_Newtrain.values[:, 1]\n",
    "X3Ta = df_Newtrain.values[:, 2]\n",
    "X4Ta = df_Newtrain.values[:, 3]\n",
    "X5Ta = df_Newtrain.values[:, 4]\n",
    "# set first column (price) to output Y\n",
    "yTa = y_Normtrain.values\n",
    "\n",
    "# set input variables into X for 3a - validation set\n",
    "#X1:area, X2:bedrooms, X3:bathrooms, X4:stories, X5:parking\n",
    "X1Va = df_Newtest.values[:, 0]\n",
    "X2Va = df_Newtest.values[:, 1]\n",
    "X3Va = df_Newtest.values[:, 2]\n",
    "X4Va = df_Newtest.values[:, 3]\n",
    "X5Va = df_Newtest.values[:, 4]\n",
    "# set first column (price) to output Y\n",
    "yVa = y_Normtest.values"
   ]
  },
  {
   "cell_type": "code",
   "execution_count": 9,
   "id": "48fd3880",
   "metadata": {},
   "outputs": [],
   "source": [
    "#Create xTrain array for 3a - training\n",
    "X_0Ta = np.ones((mT, 1))\n",
    "X_1Ta = X1Ta.reshape(mT, 1)\n",
    "X_2Ta = X2Ta.reshape(mT, 1)\n",
    "X_3Ta = X3Ta.reshape(mT, 1)\n",
    "X_4Ta = X4Ta.reshape(mT, 1)\n",
    "X_5Ta = X5Ta.reshape(mT, 1)\n",
    "xTa = np.hstack((X_0Ta, X_1Ta, X_2Ta, X_3Ta, X_4Ta, X_5Ta))\n",
    "\n",
    "#Create xTest array for 3a - validate\n",
    "X_0Va = np.ones((mV, 1))\n",
    "X_1Va = X1Va.reshape(mV, 1)\n",
    "X_2Va = X2Va.reshape(mV, 1)\n",
    "X_3Va = X3Va.reshape(mV, 1)\n",
    "X_4Va = X4Va.reshape(mV, 1)\n",
    "X_5Va = X5Va.reshape(mV, 1)\n",
    "xVa = np.hstack((X_0Va, X_1Va, X_2Va, X_3Va, X_4Va, X_5Va))"
   ]
  },
  {
   "cell_type": "code",
   "execution_count": 10,
   "id": "bd0a7a8b",
   "metadata": {},
   "outputs": [],
   "source": [
    "\"\"\" \n",
    "      Function to compute loss\n",
    "\n",
    "      Input Parameters: \n",
    "      ---------------- \n",
    "      X : mxn array (m = number of training examples; n= number of features).\n",
    "      y : 1xm array with answer value to the training examples.\n",
    "      theta : 1xn array of fitting weights.\n",
    "\n",
    "      Output Parameters \n",
    "      ----------------- \n",
    "      J : the loss - scalar value. \n",
    "\"\"\" \n",
    "def compute_loss(X, y, theta): \n",
    "\n",
    "    predictions = X.dot(theta) \n",
    "    errors = np.subtract(predictions, y) \n",
    "    sqrErrors = np.square(errors) \n",
    "    J = 1 / (2 * m) * np.sum(sqrErrors) \n",
    "    return J "
   ]
  },
  {
   "cell_type": "code",
   "execution_count": 11,
   "id": "0e571585",
   "metadata": {},
   "outputs": [],
   "source": [
    "\"\"\" \n",
    "  Function to  loss for linear regression. \n",
    " \n",
    "  Input Parameters \n",
    "  ---------------- \n",
    "  X : mxn array (m = number of training examples; n= number of features).\n",
    "  y : 1xm array with answer value to the training examples.\n",
    "  theta : 1xn array of fitting weights.\n",
    "  alpha : Learning rate - Scalar value. \n",
    "  iterations: No of iterations - Scalar value.  \n",
    " \n",
    "  Output Parameters \n",
    "  ----------------- \n",
    "  theta : 1xn array of final fitting weights\n",
    "  loss_history: m x 1 array of loss values of each iteration\n",
    "  \"\"\" \n",
    "def gradient_descent(xT, yT, xV, yV, theta, alpha, iterations, penalty): \n",
    "    loss_history_train = np.zeros(iterations)\n",
    "    loss_history_validate = np.zeros(iterations) \n",
    " \n",
    "    for i in range(iterations): \n",
    "        predictions = xT.dot(theta) \n",
    "        errors = np.subtract(predictions, yT) \n",
    "        sum_delta = (alpha / mT) * xT.transpose().dot(errors); \n",
    "        if (penalty == 0):\n",
    "            theta = theta - sum_delta;\n",
    "        else:\n",
    "            theta = theta * (1 - (alpha * (penalty / mT))) - sum_delta;\n",
    "        loss_history_train[i] = compute_loss(xT, yT, theta)\n",
    "        loss_history_validate[i] = compute_loss(xV, yV, theta) \n",
    "        \n",
    "    return theta, loss_history_train, loss_history_validate "
   ]
  },
  {
   "cell_type": "code",
   "execution_count": 12,
   "id": "0fd4ac01",
   "metadata": {},
   "outputs": [],
   "source": [
    "#declare parameters with initial values\n",
    "theta_2a = [0., 0., 0., 0., 0., 0.] \n",
    "iterations = 700; \n",
    "alpha = 0.01"
   ]
  },
  {
   "cell_type": "code",
   "execution_count": 13,
   "id": "5a3c37c1",
   "metadata": {},
   "outputs": [
    {
     "data": {
      "text/plain": [
       "array([0.14297711, 0.09929129, 0.08937593, 0.10553912, 0.10628643,\n",
       "       0.0978262 ])"
      ]
     },
     "execution_count": 13,
     "metadata": {},
     "output_type": "execute_result"
    }
   ],
   "source": [
    "theta, loss_history_train_a, loss_history_validate_a = gradient_descent(xTa, yTa, xVa, yVa, theta_2a, alpha, iterations, 0)\n",
    "theta"
   ]
  },
  {
   "cell_type": "code",
   "execution_count": 14,
   "id": "e47be584",
   "metadata": {},
   "outputs": [
    {
     "data": {
      "text/plain": [
       "<matplotlib.legend.Legend at 0x2688a3effd0>"
      ]
     },
     "execution_count": 14,
     "metadata": {},
     "output_type": "execute_result"
    },
    {
     "data": {
      "image/png": "[encoded data removed]",
      "text/plain": [
       "<Figure size 432x288 with 1 Axes>"
      ]
     },
     "metadata": {
      "needs_background": "light"
     },
     "output_type": "display_data"
    }
   ],
   "source": [
    "#plot for 3a\n",
    "plt.plot(range(1, iterations + 1),loss_history_train_a, color='red', label='Validation loss')\n",
    "plt.plot(range(1, iterations + 1),loss_history_validate_a, color='blue', label='Training loss') \n",
    "plt.rcParams[\"figure.figsize\"] = (10,6) \n",
    "plt.grid() \n",
    "plt.xlabel('Number of iterations') \n",
    "plt.ylabel('Loss (J)') \n",
    "plt.title('Convergence of Gradient Descent, MinMax') \n",
    "plt.legend()"
   ]
  },
  {
   "cell_type": "markdown",
   "id": "37f328a4",
   "metadata": {},
   "source": [
    "# Problem 2b"
   ]
  },
  {
   "cell_type": "code",
   "execution_count": 15,
   "id": "7a7bf486",
   "metadata": {},
   "outputs": [],
   "source": [
    "# set input variables into X for 2a - train set\n",
    "#X1:area, X2:bedrooms, X3:bathrooms, X4:stories, X5:mainroad, X6:guestroom,\n",
    "#X7:basement, X8:hotwaterheating, X9:airconditioning, X10:parking, X11:prefarea\n",
    "X1Tb = df_Newtrain.values[:,0]\n",
    "X2Tb = df_Newtrain.values[:, 1]\n",
    "X3Tb = df_Newtrain.values[:, 2]\n",
    "X4Tb = df_Newtrain.values[:, 3]\n",
    "X5Tb = df_Newtrain.values[:, 4]\n",
    "X6Tb = df_Newtrain.values[:, 5]\n",
    "X7Tb = df_Newtrain.values[:, 6]\n",
    "X8Tb = df_Newtrain.values[:, 7]\n",
    "X9Tb = df_Newtrain.values[:, 8]\n",
    "X10Tb = df_Newtrain.values[:, 9]\n",
    "X11Tb = df_Newtrain.values[:, 10]\n",
    "# set first column (price) to output Y\n",
    "yTb = y_Normtrain.values\n",
    "\n",
    "# set input variables into X for 2a - validation set\n",
    "#X1:area, X2:bedrooms, X3:bathrooms, X4:stories, X5:mainroad, X6:guestroom,\n",
    "#X7:basement, X8:hotwaterheating, X9:airconditioning, X10:parking, X11:prefarea\n",
    "X1Vb = df_Newtest.values[:, 0]\n",
    "X2Vb = df_Newtest.values[:, 1]\n",
    "X3Vb = df_Newtest.values[:, 2]\n",
    "X4Vb = df_Newtest.values[:, 3]\n",
    "X5Vb = df_Newtest.values[:, 4]\n",
    "X6Vb = df_Newtest.values[:, 5]\n",
    "X7Vb = df_Newtest.values[:, 6]\n",
    "X8Vb = df_Newtest.values[:, 7]\n",
    "X9Vb = df_Newtest.values[:, 8]\n",
    "X10Vb = df_Newtest.values[:, 9]\n",
    "X11Vb = df_Newtest.values[:, 10]\n",
    "# set first column (price) to output Y\n",
    "yVb = y_Normtest.values"
   ]
  },
  {
   "cell_type": "code",
   "execution_count": 16,
   "id": "c8f27d98",
   "metadata": {},
   "outputs": [],
   "source": [
    "#Create xTrain array for 1a - training\n",
    "X_0Tb = np.ones((mT, 1))\n",
    "X_1Tb = X1Tb.reshape(mT, 1)\n",
    "X_2Tb = X2Tb.reshape(mT, 1)\n",
    "X_3Tb = X3Tb.reshape(mT, 1)\n",
    "X_4Tb = X4Tb.reshape(mT, 1)\n",
    "X_5Tb = X5Tb.reshape(mT, 1)\n",
    "X_6Tb = X6Tb.reshape(mT, 1)\n",
    "X_7Tb = X7Tb.reshape(mT, 1)\n",
    "X_8Tb = X8Tb.reshape(mT, 1)\n",
    "X_9Tb = X9Tb.reshape(mT, 1)\n",
    "X_10Tb = X10Tb.reshape(mT, 1)\n",
    "X_11Tb = X11Tb.reshape(mT, 1)\n",
    "xTb = np.hstack((X_0Tb, X_1Tb, X_2Tb, X_3Tb, X_4Tb, X_5Tb, X_6Tb, X_7Tb, X_8Tb, X_9Tb, X_10Tb, X_11Tb))\n",
    "\n",
    "#Create xTest array for 1a - validate\n",
    "X_0Vb = np.ones((mV, 1))\n",
    "X_1Vb = X1Vb.reshape(mV, 1)\n",
    "X_2Vb = X2Vb.reshape(mV, 1)\n",
    "X_3Vb = X3Vb.reshape(mV, 1)\n",
    "X_4Vb = X4Vb.reshape(mV, 1)\n",
    "X_5Vb = X5Vb.reshape(mV, 1)\n",
    "X_6Vb = X6Vb.reshape(mV, 1)\n",
    "X_7Vb = X7Vb.reshape(mV, 1)\n",
    "X_8Vb = X8Vb.reshape(mV, 1)\n",
    "X_9Vb = X9Vb.reshape(mV, 1)\n",
    "X_10Vb = X10Vb.reshape(mV, 1)\n",
    "X_11Vb = X11Vb.reshape(mV, 1)\n",
    "xVb = np.hstack((X_0Vb, X_1Vb, X_2Vb, X_3Vb, X_4Vb, X_5Vb, X_6Vb, X_7Vb, X_8Vb, X_9Vb, X_10Vb, X_11Vb))"
   ]
  },
  {
   "cell_type": "code",
   "execution_count": 17,
   "id": "426aa5bc",
   "metadata": {},
   "outputs": [],
   "source": [
    "\"\"\" \n",
    "      Function to compute loss\n",
    "\n",
    "      Input Parameters: \n",
    "      ---------------- \n",
    "      X : mxn array (m = number of training examples; n= number of features).\n",
    "      y : 1xm array with answer value to the training examples.\n",
    "      theta : 1xn array of fitting weights.\n",
    "\n",
    "      Output Parameters \n",
    "      ----------------- \n",
    "      J : the loss - scalar value. \n",
    "\"\"\" \n",
    "def compute_loss(X, y, theta): \n",
    "\n",
    "    predictions = X.dot(theta) \n",
    "    errors = np.subtract(predictions, y) \n",
    "    sqrErrors = np.square(errors) \n",
    "    J = 1 / (2 * m) * np.sum(sqrErrors) \n",
    "    return J "
   ]
  },
  {
   "cell_type": "code",
   "execution_count": 18,
   "id": "a785bca9",
   "metadata": {},
   "outputs": [],
   "source": [
    "\"\"\" \n",
    "  Function to  loss for linear regression. \n",
    " \n",
    "  Input Parameters \n",
    "  ---------------- \n",
    "  X : mxn array (m = number of training examples; n= number of features).\n",
    "  y : 1xm array with answer value to the training examples.\n",
    "  theta : 1xn array of fitting weights.\n",
    "  alpha : Learning rate - Scalar value. \n",
    "  iterations: No of iterations - Scalar value.  \n",
    " \n",
    "  Output Parameters \n",
    "  ----------------- \n",
    "  theta : 1xn array of final fitting weights\n",
    "  loss_history: m x 1 array of loss values of each iteration\n",
    "  \"\"\" \n",
    "def gradient_descent(xT, yT, xV, yV, theta, alpha, iterations, penalty): \n",
    "    loss_history_train = np.zeros(iterations)\n",
    "    loss_history_validate = np.zeros(iterations) \n",
    " \n",
    "    for i in range(iterations): \n",
    "        predictions = xT.dot(theta) \n",
    "        errors = np.subtract(predictions, yT) \n",
    "        sum_delta = (alpha / mT) * xT.transpose().dot(errors); \n",
    "        if (penalty == 0):\n",
    "            theta = theta - sum_delta;\n",
    "        else:\n",
    "            theta = theta * (1 - (alpha * (penalty / mT))) - sum_delta;\n",
    "        loss_history_train[i] = compute_loss(xT, yT, theta)\n",
    "        loss_history_validate[i] = compute_loss(xV, yV, theta) \n",
    "        \n",
    "    return theta, loss_history_train, loss_history_validate "
   ]
  },
  {
   "cell_type": "code",
   "execution_count": 19,
   "id": "0d42679f",
   "metadata": {},
   "outputs": [],
   "source": [
    "#declare parameters with initial values\n",
    "theta_2b = [0., 0., 0., 0., 0., 0., 0., 0., 0., 0., 0., 0.] \n",
    "iterations = 300; \n",
    "alpha = 0.025"
   ]
  },
  {
   "cell_type": "code",
   "execution_count": 20,
   "id": "60f29878",
   "metadata": {},
   "outputs": [
    {
     "data": {
      "text/plain": [
       "array([0.05800905, 0.06612165, 0.05515173, 0.09012457, 0.0814091 ,\n",
       "       0.06824781, 0.06334631, 0.04336191, 0.03229473, 0.03112922,\n",
       "       0.08928115, 0.06898238])"
      ]
     },
     "execution_count": 20,
     "metadata": {},
     "output_type": "execute_result"
    }
   ],
   "source": [
    "theta, loss_history_train_b, loss_history_validate_b = gradient_descent(xTb, yTb, xVb, yVb, theta_2b, alpha, iterations, 0)\n",
    "theta"
   ]
  },
  {
   "cell_type": "code",
   "execution_count": 21,
   "id": "2fe05512",
   "metadata": {},
   "outputs": [
    {
     "data": {
      "text/plain": [
       "<matplotlib.legend.Legend at 0x2688ab4efd0>"
      ]
     },
     "execution_count": 21,
     "metadata": {},
     "output_type": "execute_result"
    },
    {
     "data": {
      "image/png": "[encoded data removed]",
      "text/plain": [
       "<Figure size 720x432 with 1 Axes>"
      ]
     },
     "metadata": {
      "needs_background": "light"
     },
     "output_type": "display_data"
    }
   ],
   "source": [
    "#plot for 2b\n",
    "plt.plot(range(1, iterations + 1),loss_history_train_b , color='red', label='Validation loss')\n",
    "plt.plot(range(1, iterations + 1),loss_history_validate_b, color='blue', label='Training loss') \n",
    "plt.rcParams[\"figure.figsize\"] = (10,6) \n",
    "plt.grid() \n",
    "plt.xlabel('Number of iterations') \n",
    "plt.ylabel('Loss (J)') \n",
    "plt.title('Convergence of Gradient Descent, MinMax') \n",
    "plt.legend()"
   ]
  }
 ],
 "metadata": {
  "kernelspec": {
   "display_name": "Python 3 (ipykernel)",
   "language": "python",
   "name": "python3"
  },
  "language_info": {
   "codemirror_mode": {
    "name": "ipython",
    "version": 3
   },
   "file_extension": ".py",
   "mimetype": "text/x-python",
   "name": "python",
   "nbconvert_exporter": "python",
   "pygments_lexer": "ipython3",
   "version": "3.9.12"
  }
 },
 "nbformat": 4,
 "nbformat_minor": 5
}
