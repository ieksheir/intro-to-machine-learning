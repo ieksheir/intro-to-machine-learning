{
 "cells": [
  {
   "cell_type": "code",
   "execution_count": 1,
   "id": "bea4139d",
   "metadata": {},
   "outputs": [],
   "source": [
    "#import libraries\n",
    "import numpy as np \n",
    "import pandas as pd \n",
    "import matplotlib.pyplot as plt"
   ]
  },
  {
   "cell_type": "code",
   "execution_count": 2,
   "id": "96f03b47",
   "metadata": {},
   "outputs": [],
   "source": [
    "#import data\n",
    "df = pd.read_csv(r'C:\\Users\\ibrah\\Downloads\\D3.csv')\n",
    "df.head(); # To get first n rows from the dataset default value of n is 5\n",
    "m = len(df)"
   ]
  },
  {
   "cell_type": "code",
   "execution_count": 3,
   "id": "4376e9ad",
   "metadata": {},
   "outputs": [],
   "source": [
    "# set first column to input X\n",
    "X = df.values[:, 2] \n",
    "# set foruth column to output y \n",
    "y = df.values[:, 3]"
   ]
  },
  {
   "cell_type": "code",
   "execution_count": 4,
   "id": "2c14321b",
   "metadata": {},
   "outputs": [
    {
     "data": {
      "text/plain": [
       "Text(0.5, 1.0, 'X, Y Plot')"
      ]
     },
     "execution_count": 4,
     "metadata": {},
     "output_type": "execute_result"
    },
    {
     "data": {
      "image/png": "[encoded data removed]",
      "text/plain": [
       "<Figure size 432x288 with 1 Axes>"
      ]
     },
     "metadata": {
      "needs_background": "light"
     },
     "output_type": "display_data"
    }
   ],
   "source": [
    "#plot X, Y plot\n",
    "plt.scatter(X,y, color='red',marker= '+') \n",
    "plt.grid() \n",
    "plt.rcParams[\"figure.figsize\"] = (10,6) \n",
    "plt.xlabel('Input X') \n",
    "plt.ylabel('Output Y') \n",
    "plt.title('X, Y Plot') "
   ]
  },
  {
   "cell_type": "code",
   "execution_count": 5,
   "id": "167d177b",
   "metadata": {},
   "outputs": [],
   "source": [
    "#ADD vector of ones to represent X0 values\n",
    "X_0 = np.ones((m, 1))\n",
    "X_1 = X.reshape(m, 1)\n",
    "X = np.hstack((X_0, X_1)) "
   ]
  },
  {
   "cell_type": "code",
   "execution_count": 6,
   "id": "ded18970",
   "metadata": {},
   "outputs": [],
   "source": [
    " \"\"\" \n",
    "      Function to compute loss\n",
    "\n",
    "      Input Parameters: \n",
    "      ---------------- \n",
    "      X : mxn array (m = number of training examples; n= number of features).\n",
    "      y : 1xm array with answer value to the training examples.\n",
    "      theta : 1xn array of fitting weights.\n",
    "\n",
    "      Output Parameters \n",
    "      ----------------- \n",
    "      J : the loss - scalar value. \n",
    "\"\"\" \n",
    "def compute_loss(X, y, theta): \n",
    "\n",
    "    predictions = X.dot(theta) \n",
    "    errors = np.subtract(predictions, y) \n",
    "    sqrErrors = np.square(errors) \n",
    "    J = 1 / (2 * m) * np.sum(sqrErrors) \n",
    "    return J "
   ]
  },
  {
   "cell_type": "code",
   "execution_count": 7,
   "id": "0e4d29b9",
   "metadata": {},
   "outputs": [],
   "source": [
    "\"\"\" \n",
    "  Function to  loss for linear regression. \n",
    " \n",
    "  Input Parameters \n",
    "  ---------------- \n",
    "  X : mxn array (m = number of training examples; n= number of features).\n",
    "  y : 1xm array with answer value to the training examples.\n",
    "  theta : 1xn array of fitting weights.\n",
    "  alpha : Learning rate - Scalar value. \n",
    "  iterations: No of iterations - Scalar value.  \n",
    " \n",
    "  Output Parameters \n",
    "  ----------------- \n",
    "  theta : 1xn array of final fitting weights\n",
    "  cost_history: m x 1 array of loss values of each iteration\n",
    "  \"\"\" \n",
    "def gradient_descent(X, y, theta, alpha, iterations): \n",
    "  loss_history = np.zeros(iterations) \n",
    " \n",
    "  for i in range(iterations): \n",
    "    predictions = X.dot(theta) \n",
    "    errors = np.subtract(predictions, y) \n",
    "    sum_delta = (alpha / m) * X.transpose().dot(errors); \n",
    "    theta = theta - sum_delta; \n",
    "    loss_history[i] = compute_loss(X, y, theta)   \n",
    " \n",
    "  return theta, loss_history "
   ]
  },
  {
   "cell_type": "code",
   "execution_count": 8,
   "id": "903f4d5a",
   "metadata": {},
   "outputs": [],
   "source": [
    "#declare parameters with initial values\n",
    "theta = [0., 0.] \n",
    "iterations = 1200; \n",
    "alpha = 0.1; "
   ]
  },
  {
   "cell_type": "code",
   "execution_count": 9,
   "id": "6633f772",
   "metadata": {},
   "outputs": [
    {
     "name": "stdout",
     "output_type": "stream",
     "text": [
      "Final value of theta = [ 2.8714221  -0.52048288]\n",
      "loss_history = [4.66843939 4.49602325 4.43685075 ... 3.62945112 3.62945112 3.62945112]\n",
      "Final Loss = 3.629451124607915\n"
     ]
    }
   ],
   "source": [
    "#run gradient descent\n",
    "theta, loss_history = gradient_descent(X, y, theta, alpha, iterations) \n",
    "print('Final value of theta =', theta) \n",
    "print('loss_history =', loss_history) \n",
    "print('Final Loss =', loss_history[-1])"
   ]
  },
  {
   "cell_type": "code",
   "execution_count": 10,
   "id": "f34c93f2",
   "metadata": {},
   "outputs": [
    {
     "data": {
      "text/plain": [
       "<matplotlib.legend.Legend at 0x21864cc03d0>"
      ]
     },
     "execution_count": 10,
     "metadata": {},
     "output_type": "execute_result"
    },
    {
     "data": {
      "image/png": "[encoded data removed]",
      "text/plain": [
       "<Figure size 720x432 with 1 Axes>"
      ]
     },
     "metadata": {
      "needs_background": "light"
     },
     "output_type": "display_data"
    }
   ],
   "source": [
    "#plot\n",
    "#take values from column 1 of X\n",
    "plt.scatter(X[:,1], y, color='red', marker= '+', label= 'Training Data') \n",
    "plt.plot(X[:,1],X.dot(theta), color='green', label='Linear Regression') \n",
    " \n",
    "plt.rcParams[\"figure.figsize\"] = (10,6) \n",
    "plt.grid() \n",
    "plt.xlabel('Explanatory Variable X3') \n",
    "plt.ylabel('Output Y') \n",
    "plt.title('Linear Regression Fit') \n",
    "plt.legend() "
   ]
  },
  {
   "cell_type": "code",
   "execution_count": 11,
   "id": "a04d4a13",
   "metadata": {},
   "outputs": [
    {
     "data": {
      "text/plain": [
       "Text(0.5, 1.0, 'Convergence of gradient descent, X3')"
      ]
     },
     "execution_count": 11,
     "metadata": {},
     "output_type": "execute_result"
    },
    {
     "data": {
      "image/png": "[encoded data removed]",
      "text/plain": [
       "<Figure size 720x432 with 1 Axes>"
      ]
     },
     "metadata": {
      "needs_background": "light"
     },
     "output_type": "display_data"
    }
   ],
   "source": [
    "#plot\n",
    "plt.plot(range(1, iterations + 1),loss_history, color='blue') \n",
    "plt.rcParams[\"figure.figsize\"] = (10,6) \n",
    "plt.grid() \n",
    "plt.xlabel('Number of iterations') \n",
    "plt.ylabel('Loss (J)') \n",
    "plt.title('Convergence of gradient descent, X3') "
   ]
  }
 ],
 "metadata": {
  "kernelspec": {
   "display_name": "Python 3 (ipykernel)",
   "language": "python",
   "name": "python3"
  },
  "language_info": {
   "codemirror_mode": {
    "name": "ipython",
    "version": 3
   },
   "file_extension": ".py",
   "mimetype": "text/x-python",
   "name": "python",
   "nbconvert_exporter": "python",
   "pygments_lexer": "ipython3",
   "version": "3.9.12"
  }
 },
 "nbformat": 4,
 "nbformat_minor": 5
}
