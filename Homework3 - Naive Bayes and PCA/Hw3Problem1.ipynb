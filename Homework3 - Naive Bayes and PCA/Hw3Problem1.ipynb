{
 "cells": [
  {
   "cell_type": "code",
   "execution_count": 1,
   "id": "9568054e",
   "metadata": {},
   "outputs": [
    {
     "data": {
      "text/plain": [
       "'\\nUse the cancer dataset to build a Naïve Bayesian model to classify the type of cancer (Malignant vs. benign). \\nPlot your classification accuracy, precision, and recall. \\nExplain and elaborate on your results. \\nCan you compare your results against the logistic regression classifier you did in previous homework?\\n'"
      ]
     },
     "execution_count": 1,
     "metadata": {},
     "output_type": "execute_result"
    }
   ],
   "source": [
    "\"\"\"\n",
    "Use the cancer dataset to build a Naïve Bayesian model to classify the type of cancer (Malignant vs. benign). \n",
    "Plot your classification accuracy, precision, and recall. \n",
    "Explain and elaborate on your results. \n",
    "Can you compare your results against the logistic regression classifier you did in previous homework?\n",
    "\"\"\""
   ]
  },
  {
   "cell_type": "code",
   "execution_count": 2,
   "id": "f9dae2b0",
   "metadata": {},
   "outputs": [],
   "source": [
    "import numpy as np \n",
    "import matplotlib.pyplot as plt \n",
    "import pandas as pd \n",
    "from sklearn.datasets import load_breast_cancer\n",
    "from sklearn.model_selection import train_test_split\n",
    "from sklearn.preprocessing import StandardScaler\n",
    "from sklearn.linear_model import LogisticRegression\n",
    "from sklearn.metrics import confusion_matrix\n",
    "from sklearn import metrics\n",
    "import seaborn as sns\n",
    "from sklearn.naive_bayes import GaussianNB"
   ]
  },
  {
   "cell_type": "code",
   "execution_count": 3,
   "id": "8071467c",
   "metadata": {},
   "outputs": [],
   "source": [
    "#load breast cancer dataset\n",
    "breast = load_breast_cancer()\n",
    "breast_data = breast.data\n",
    "breast_input = pd.DataFrame(breast_data)"
   ]
  },
  {
   "cell_type": "code",
   "execution_count": 4,
   "id": "8335fa3e",
   "metadata": {},
   "outputs": [],
   "source": [
    "#Add target column\n",
    "breast_labels = breast.target\n",
    "labels = np.reshape(breast_labels,(569,1))\n",
    "final_breast_data = np.concatenate([breast_data,labels],axis=1)\n",
    "breast_dataset = pd.DataFrame(final_breast_data) "
   ]
  },
  {
   "cell_type": "code",
   "execution_count": 5,
   "id": "6d426f31",
   "metadata": {},
   "outputs": [],
   "source": [
    "#add column names\n",
    "features = breast.feature_names \n",
    "features_labels = np.append(features,'label')\n",
    "breast_dataset.columns = features_labels"
   ]
  },
  {
   "cell_type": "code",
   "execution_count": 6,
   "id": "e23eac1c",
   "metadata": {},
   "outputs": [],
   "source": [
    "#set columns 0-30 to feature X and column 31 to output Y\n",
    "X = breast_dataset.iloc[:, 0:30].values\n",
    "Y = breast_dataset.iloc[:, 30].values "
   ]
  },
  {
   "cell_type": "code",
   "execution_count": 7,
   "id": "e23271ec",
   "metadata": {},
   "outputs": [],
   "source": [
    "#split set into training(0.8) and validations(0.2) sets\n",
    "X_train, X_test, Y_train, Y_test = train_test_split(X, Y, test_size = 0.2)"
   ]
  },
  {
   "cell_type": "code",
   "execution_count": 8,
   "id": "a07f7b34",
   "metadata": {},
   "outputs": [],
   "source": [
    "#apply standardarization to the training and testing sets\n",
    "sc_X = StandardScaler() \n",
    "X_train = sc_X.fit_transform(X_train) \n",
    "X_test = sc_X.transform(X_test) "
   ]
  },
  {
   "cell_type": "code",
   "execution_count": 9,
   "id": "8c3d6af4",
   "metadata": {},
   "outputs": [],
   "source": [
    "#Apply Naive Bayes to set\n",
    "model = GaussianNB()\n",
    "model.fit(X_train, Y_train)\n",
    "\n",
    "#Apply the model to the validation set\n",
    "Y_pred = model.predict(X_test)"
   ]
  },
  {
   "cell_type": "code",
   "execution_count": 10,
   "id": "22707253",
   "metadata": {},
   "outputs": [
    {
     "name": "stdout",
     "output_type": "stream",
     "text": [
      "              precision    recall  f1-score   support\n",
      "\n",
      "         0.0       0.95      0.95      0.95        37\n",
      "         1.0       0.97      0.97      0.97        77\n",
      "\n",
      "    accuracy                           0.96       114\n",
      "   macro avg       0.96      0.96      0.96       114\n",
      "weighted avg       0.96      0.96      0.96       114\n",
      "\n",
      "[[35  2]\n",
      " [ 2 75]]\n"
     ]
    }
   ],
   "source": [
    "#calculate and output the accuracy, precision, and recall of the model\n",
    "print(metrics.classification_report(Y_test, Y_pred))\n",
    "print(metrics.confusion_matrix(Y_test, Y_pred))"
   ]
  },
  {
   "cell_type": "code",
   "execution_count": 11,
   "id": "26807950",
   "metadata": {},
   "outputs": [
    {
     "name": "stdout",
     "output_type": "stream",
     "text": [
      "Accuracy: 0.9649122807017544\n",
      "Precision: 0.974025974025974\n",
      "Recall: 0.974025974025974\n"
     ]
    }
   ],
   "source": [
    "#calculate and output the accuracy, precision, and recall of the model\n",
    "print(\"Accuracy:\",metrics.accuracy_score(Y_test, Y_pred)) \n",
    "print(\"Precision:\",metrics.precision_score(Y_test, Y_pred)) \n",
    "print(\"Recall:\",metrics.recall_score(Y_test, Y_pred))"
   ]
  }
 ],
 "metadata": {
  "kernelspec": {
   "display_name": "Python 3 (ipykernel)",
   "language": "python",
   "name": "python3"
  },
  "language_info": {
   "codemirror_mode": {
    "name": "ipython",
    "version": 3
   },
   "file_extension": ".py",
   "mimetype": "text/x-python",
   "name": "python",
   "nbconvert_exporter": "python",
   "pygments_lexer": "ipython3",
   "version": "3.9.12"
  }
 },
 "nbformat": 4,
 "nbformat_minor": 5
}
