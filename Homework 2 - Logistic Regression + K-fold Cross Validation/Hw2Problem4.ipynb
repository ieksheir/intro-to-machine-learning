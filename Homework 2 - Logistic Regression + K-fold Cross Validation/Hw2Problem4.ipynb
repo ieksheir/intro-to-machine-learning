{
 "cells": [
  {
   "cell_type": "code",
   "execution_count": 1,
   "id": "f8236c77",
   "metadata": {},
   "outputs": [],
   "source": [
    "import numpy as np \n",
    "import matplotlib.pyplot as plt \n",
    "import pandas as pd \n",
    "from sklearn.datasets import load_breast_cancer\n",
    "from sklearn.model_selection import train_test_split\n",
    "from sklearn.preprocessing import StandardScaler\n",
    "from sklearn.linear_model import LogisticRegression\n",
    "from sklearn.metrics import confusion_matrix\n",
    "from sklearn import metrics\n",
    "import seaborn as sns\n",
    "from sklearn.model_selection import KFold\n",
    "from sklearn.model_selection import cross_val_score"
   ]
  },
  {
   "cell_type": "code",
   "execution_count": 2,
   "id": "74f51f18",
   "metadata": {},
   "outputs": [],
   "source": [
    "#load breast cancer dataset\n",
    "breast = load_breast_cancer()\n",
    "breast_data = breast.data\n",
    "breast_input = pd.DataFrame(breast_data)"
   ]
  },
  {
   "cell_type": "code",
   "execution_count": 3,
   "id": "b75f58f6",
   "metadata": {},
   "outputs": [],
   "source": [
    "#Add target column\n",
    "breast_labels = breast.target\n",
    "labels = np.reshape(breast_labels,(569,1))\n",
    "final_breast_data = np.concatenate([breast_data,labels],axis=1)\n",
    "breast_dataset = pd.DataFrame(final_breast_data) "
   ]
  },
  {
   "cell_type": "code",
   "execution_count": 4,
   "id": "77b80b05",
   "metadata": {},
   "outputs": [],
   "source": [
    "#add column names\n",
    "features = breast.feature_names \n",
    "features_labels = np.append(features,'label')\n",
    "breast_dataset.columns = features_labels"
   ]
  },
  {
   "cell_type": "code",
   "execution_count": 5,
   "id": "c5ae832a",
   "metadata": {},
   "outputs": [],
   "source": [
    "#set columns 0-30 to feature X and column 31 to output Y\n",
    "X = breast_dataset.iloc[:, 0:30].values\n",
    "Y = breast_dataset.iloc[:, 30].values "
   ]
  },
  {
   "cell_type": "code",
   "execution_count": 6,
   "id": "35b8878f",
   "metadata": {},
   "outputs": [],
   "source": [
    "#apply standardarization to the training and testing sets\n",
    "sc_X = StandardScaler() \n",
    "X = sc_X.fit_transform(X) "
   ]
  },
  {
   "cell_type": "code",
   "execution_count": 14,
   "id": "7660d4e5",
   "metadata": {},
   "outputs": [
    {
     "name": "stdout",
     "output_type": "stream",
     "text": [
      "Accuracy (k=5): 97.193% (1.701%)\n"
     ]
    }
   ],
   "source": [
    "#5-fold cross-validation\n",
    "kfold = KFold(n_splits=5, random_state=0, shuffle=True)\n",
    "model = LogisticRegression(C=1, solver='liblinear')\n",
    "results = cross_val_score(model, X, Y, cv=kfold)\n",
    "print(\"Accuracy (k=5): %.3f%% (%.3f%%)\" % (results.mean()*100, results.std()*100))"
   ]
  },
  {
   "cell_type": "code",
   "execution_count": 15,
   "id": "43d6419a",
   "metadata": {},
   "outputs": [
    {
     "name": "stdout",
     "output_type": "stream",
     "text": [
      "Accuracy (k=10): 97.895% (2.046%)\n"
     ]
    }
   ],
   "source": [
    "#10-fold cross-validation\n",
    "kfold = KFold(n_splits=10, random_state=0, shuffle=True)\n",
    "model = LogisticRegression(C=1, solver='liblinear')\n",
    "results = cross_val_score(model, X, Y, cv=kfold)\n",
    "print(\"Accuracy (k=10): %.3f%% (%.3f%%)\" % (results.mean()*100, results.std()*100))"
   ]
  },
  {
   "cell_type": "code",
   "execution_count": null,
   "id": "af2b3045",
   "metadata": {},
   "outputs": [],
   "source": []
  }
 ],
 "metadata": {
  "kernelspec": {
   "display_name": "Python 3 (ipykernel)",
   "language": "python",
   "name": "python3"
  },
  "language_info": {
   "codemirror_mode": {
    "name": "ipython",
    "version": 3
   },
   "file_extension": ".py",
   "mimetype": "text/x-python",
   "name": "python",
   "nbconvert_exporter": "python",
   "pygments_lexer": "ipython3",
   "version": "3.9.12"
  }
 },
 "nbformat": 4,
 "nbformat_minor": 5
}
