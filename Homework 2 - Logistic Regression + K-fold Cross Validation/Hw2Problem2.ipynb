{
 "cells": [
  {
   "cell_type": "code",
   "execution_count": 1,
   "id": "1c484d7c",
   "metadata": {},
   "outputs": [],
   "source": [
    "#import libraries\n",
    "import numpy as np \n",
    "import pandas as pd \n",
    "import matplotlib.pyplot as plt\n",
    "from sklearn.preprocessing import MinMaxScaler, StandardScaler\n",
    "from sklearn.model_selection import train_test_split\n",
    "from sklearn.model_selection import KFold \n",
    "from sklearn.model_selection import cross_val_score\n",
    "from sklearn.model_selection import cross_val_predict\n",
    "from sklearn.linear_model import LogisticRegression\n",
    "from sklearn.metrics import confusion_matrix\n",
    "from sklearn import metrics\n",
    "import seaborn as sns"
   ]
  },
  {
   "cell_type": "code",
   "execution_count": 2,
   "id": "a2a1d411",
   "metadata": {},
   "outputs": [],
   "source": [
    "#read in data set\n",
    "dataset = pd.read_csv('Diabetes.csv') \n",
    "\n",
    "#set columns 0-7 to feature X and column 8 to output Y\n",
    "X = dataset.iloc[:, 0:8].values\n",
    "Y = dataset.iloc[:, 8].values "
   ]
  },
  {
   "cell_type": "code",
   "execution_count": 3,
   "id": "c9e8e88e",
   "metadata": {},
   "outputs": [],
   "source": [
    "#apply standardarization to the training and testing sets\n",
    "sc_X = StandardScaler() \n",
    "X = sc_X.fit_transform(X) "
   ]
  },
  {
   "cell_type": "code",
   "execution_count": 4,
   "id": "ab629c02",
   "metadata": {},
   "outputs": [
    {
     "name": "stdout",
     "output_type": "stream",
     "text": [
      "Accuracy (k=5): 77.600% (2.777%)\n"
     ]
    }
   ],
   "source": [
    "#5-fold cross-validation\n",
    "kfold = KFold(n_splits=5, random_state=0, shuffle=True)\n",
    "model = LogisticRegression(solver='liblinear')\n",
    "results = cross_val_score(model, X, Y, cv=kfold)\n",
    "print(\"Accuracy (k=5): %.3f%% (%.3f%%)\" % (results.mean()*100, results.std()*100))"
   ]
  },
  {
   "cell_type": "code",
   "execution_count": 5,
   "id": "a0a69986",
   "metadata": {},
   "outputs": [
    {
     "name": "stdout",
     "output_type": "stream",
     "text": [
      "Accuracy (k=10): 77.604% (5.036%)\n"
     ]
    }
   ],
   "source": [
    "#10-fold cross-validation\n",
    "kfold = KFold(n_splits=10, random_state=0, shuffle=True)\n",
    "model = LogisticRegression(solver='liblinear')\n",
    "results = cross_val_score(model, X, Y, cv=kfold)\n",
    "print(\"Accuracy (k=10): %.3f%% (%.3f%%)\" % (results.mean()*100, results.std()*100))"
   ]
  }
 ],
 "metadata": {
  "kernelspec": {
   "display_name": "Python 3 (ipykernel)",
   "language": "python",
   "name": "python3"
  },
  "language_info": {
   "codemirror_mode": {
    "name": "ipython",
    "version": 3
   },
   "file_extension": ".py",
   "mimetype": "text/x-python",
   "name": "python",
   "nbconvert_exporter": "python",
   "pygments_lexer": "ipython3",
   "version": "3.9.12"
  }
 },
 "nbformat": 4,
 "nbformat_minor": 5
}
